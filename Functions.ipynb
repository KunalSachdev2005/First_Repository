{
 "cells": [
  {
   "cell_type": "markdown",
   "id": "e9c7dbd3",
   "metadata": {},
   "source": [
    "## Defining a Function"
   ]
  },
  {
   "cell_type": "code",
   "execution_count": 15,
   "id": "798218d5",
   "metadata": {},
   "outputs": [],
   "source": [
    "def greet(): # click Shift +Tab to read the documentation\n",
    "    \"\"\"This function is created to greet a person\"\"\"\n",
    "    name = input(\"Please enter your name here: \")\n",
    "    print(\"Hello\", name, \".\", \"Welcome to the world of Python!\")"
   ]
  },
  {
   "cell_type": "code",
   "execution_count": 16,
   "id": "a167be39",
   "metadata": {},
   "outputs": [
    {
     "name": "stdout",
     "output_type": "stream",
     "text": [
      "Please enter your name here: Kunal\n",
      "Hello Kunal . Welcome to the world of Python!\n"
     ]
    }
   ],
   "source": [
    "greet()"
   ]
  },
  {
   "cell_type": "code",
   "execution_count": 24,
   "id": "8de666fe",
   "metadata": {},
   "outputs": [],
   "source": [
    "def greet1(name1):\n",
    "    \"\"\"This function is created to greet a person\"\"\"\n",
    "    print(\"Hello\", name1, \".\", \"Welcome to the world of Python!\")"
   ]
  },
  {
   "cell_type": "code",
   "execution_count": 26,
   "id": "fe8b9b73",
   "metadata": {},
   "outputs": [
    {
     "name": "stdout",
     "output_type": "stream",
     "text": [
      "Hello kunal . Welcome to the world of Python!\n"
     ]
    }
   ],
   "source": [
    "greet1('kunal')"
   ]
  },
  {
   "cell_type": "code",
   "execution_count": 12,
   "id": "b97a8b85",
   "metadata": {},
   "outputs": [
    {
     "name": "stdout",
     "output_type": "stream",
     "text": [
      "Hello Kunal . Welcome to the world of Python!\n"
     ]
    }
   ],
   "source": [
    "greet1(\"Kunal\")"
   ]
  },
  {
   "cell_type": "code",
   "execution_count": 14,
   "id": "87285790",
   "metadata": {},
   "outputs": [
    {
     "data": {
      "text/plain": [
       "<function __main__.greet1(name1='Papa')>"
      ]
     },
     "execution_count": 14,
     "metadata": {},
     "output_type": "execute_result"
    }
   ],
   "source": [
    "greet1 # returns what the given object is."
   ]
  },
  {
   "cell_type": "code",
   "execution_count": 17,
   "id": "b75b8247",
   "metadata": {},
   "outputs": [
    {
     "data": {
      "text/plain": [
       "<function __main__.greet()>"
      ]
     },
     "execution_count": 17,
     "metadata": {},
     "output_type": "execute_result"
    }
   ],
   "source": [
    "greet"
   ]
  },
  {
   "cell_type": "code",
   "execution_count": 19,
   "id": "439ff7f7",
   "metadata": {},
   "outputs": [
    {
     "name": "stdout",
     "output_type": "stream",
     "text": [
      "This function is created to greet a person\n"
     ]
    }
   ],
   "source": [
    "print(greet.__doc__) # prints the documentation you provided for the function."
   ]
  },
  {
   "cell_type": "code",
   "execution_count": 28,
   "id": "c48a27a0",
   "metadata": {},
   "outputs": [
    {
     "name": "stdout",
     "output_type": "stream",
     "text": [
      "Please enter your name here: papa\n",
      "Hello papa . Welcome to the world of Python!\n",
      "Return value of the function:  None\n"
     ]
    }
   ],
   "source": [
    "ret_value = greet()\n",
    "print(\"Return value of the function: \", ret_value) # This line's output will come none because there is no return statement in\n",
    "# the function."
   ]
  },
  {
   "cell_type": "code",
   "execution_count": 29,
   "id": "5f13c3f2",
   "metadata": {},
   "outputs": [],
   "source": [
    "def greet_return(): # click Shift +Tab to read the documentation\n",
    "    \"\"\"This function is created to greet a person\"\"\"\n",
    "    name = input(\"Please enter your name here: \")\n",
    "    print(\"Hello\", name, \".\", \"Welcome to the world of Python!\")\n",
    "    return name"
   ]
  },
  {
   "cell_type": "code",
   "execution_count": 30,
   "id": "35ef9a26",
   "metadata": {},
   "outputs": [
    {
     "name": "stdout",
     "output_type": "stream",
     "text": [
      "Please enter your name here: Kunal\n",
      "Hello Kunal . Welcome to the world of Python!\n",
      "Return value of the function:  Kunal\n"
     ]
    }
   ],
   "source": [
    "ret_value = greet_return()\n",
    "print(\"Return value of the function: \", ret_value)"
   ]
  },
  {
   "cell_type": "markdown",
   "id": "967f210e",
   "metadata": {},
   "source": [
    "## Scope of Variables"
   ]
  },
  {
   "cell_type": "code",
   "execution_count": 31,
   "id": "2b030768",
   "metadata": {},
   "outputs": [
    {
     "name": "stdout",
     "output_type": "stream",
     "text": [
      "The value of x inside function: 10\n"
     ]
    },
    {
     "ename": "NameError",
     "evalue": "name 'x' is not defined",
     "output_type": "error",
     "traceback": [
      "\u001b[1;31m---------------------------------------------------------------------------\u001b[0m",
      "\u001b[1;31mNameError\u001b[0m                                 Traceback (most recent call last)",
      "\u001b[1;32m<ipython-input-31-f95da4d12cb4>\u001b[0m in \u001b[0;36m<module>\u001b[1;34m\u001b[0m\n\u001b[0;32m      7\u001b[0m \u001b[1;33m\u001b[0m\u001b[0m\n\u001b[0;32m      8\u001b[0m \u001b[0mmy_func\u001b[0m\u001b[1;33m(\u001b[0m\u001b[1;33m)\u001b[0m\u001b[1;33m\u001b[0m\u001b[1;33m\u001b[0m\u001b[0m\n\u001b[1;32m----> 9\u001b[1;33m \u001b[0mprint\u001b[0m\u001b[1;33m(\u001b[0m\u001b[1;34m\"The value of x outside function:\"\u001b[0m\u001b[1;33m,\u001b[0m \u001b[0mx\u001b[0m\u001b[1;33m)\u001b[0m\u001b[1;33m\u001b[0m\u001b[1;33m\u001b[0m\u001b[0m\n\u001b[0m",
      "\u001b[1;31mNameError\u001b[0m: name 'x' is not defined"
     ]
    }
   ],
   "source": [
    "# scope of variables\n",
    "\n",
    "def my_func():\n",
    "    \"\"\"This function is created as a practice example to understand the scope of variables\"\"\"\n",
    "    x = 10\n",
    "    print(\"The value of x inside function:\", x)\n",
    "\n",
    "my_func()\n",
    "print(\"The value of x outside function:\", x)"
   ]
  },
  {
   "cell_type": "code",
   "execution_count": 32,
   "id": "8292f451",
   "metadata": {},
   "outputs": [],
   "source": [
    "# the above code gives an error for the second print statement and says that ther is no variable x.  This happens because\n",
    "# variable x is a local variable.  This means that the variable is available for that function only.  It is local to that\n",
    "# function."
   ]
  },
  {
   "cell_type": "code",
   "execution_count": 33,
   "id": "78af2f2c",
   "metadata": {},
   "outputs": [
    {
     "name": "stdout",
     "output_type": "stream",
     "text": [
      "The value of y inside function: 10\n",
      "The value of x outside function: 10\n"
     ]
    }
   ],
   "source": [
    "x = 10 # here x is a global variable.\n",
    "def my_func():\n",
    "    \"\"\"This function is created as a practice example to understand the scope of variables\"\"\"\n",
    "    y = x\n",
    "    print(\"The value of y inside function:\", y)\n",
    "\n",
    "my_func()\n",
    "print(\"The value of x outside function:\", x)"
   ]
  },
  {
   "cell_type": "markdown",
   "id": "2a71b27f",
   "metadata": {},
   "source": [
    "## Lambda Functions"
   ]
  },
  {
   "cell_type": "code",
   "execution_count": 35,
   "id": "f75251fa",
   "metadata": {},
   "outputs": [],
   "source": [
    "# Lambda functions can have any number of arguemts, but only one expression.\n",
    "# They are executed at run time and get terminated there itself (can't reuse them).\n",
    "# They can be used wherever function objects are required.\n",
    "# Lambda arguments: expression"
   ]
  },
  {
   "cell_type": "code",
   "execution_count": 37,
   "id": "c24f00a1",
   "metadata": {},
   "outputs": [
    {
     "data": {
      "text/plain": [
       "10"
      ]
     },
     "execution_count": 37,
     "metadata": {},
     "output_type": "execute_result"
    }
   ],
   "source": [
    "double = lambda x: x * 2\n",
    "double(5)"
   ]
  },
  {
   "cell_type": "markdown",
   "id": "d875558b",
   "metadata": {},
   "source": [
    "## Filter and Map Functions"
   ]
  },
  {
   "cell_type": "code",
   "execution_count": 52,
   "id": "08792ddc",
   "metadata": {},
   "outputs": [
    {
     "name": "stdout",
     "output_type": "stream",
     "text": [
      "[4, 6, 8, 12]\n"
     ]
    }
   ],
   "source": [
    "my_list = [1, 5, 4, 6, 8, 11, 3, 12]\n",
    "even_list = []\n",
    "for i in my_list:\n",
    "    if i % 2 == 0:\n",
    "        even_list.append(i)\n",
    "print(even_list)"
   ]
  },
  {
   "cell_type": "code",
   "execution_count": 51,
   "id": "bdd96d2a",
   "metadata": {},
   "outputs": [
    {
     "name": "stdout",
     "output_type": "stream",
     "text": [
      "[4, 6, 8, 12]\n"
     ]
    }
   ],
   "source": [
    "# Filter function\n",
    "\n",
    "my_list_2 = [1, 5, 4, 6, 8, 11, 3, 12]\n",
    "\n",
    "new_list = list(filter(lambda x: (x % 2 == 0), my_list_2))\n",
    "\n",
    "print(new_list)"
   ]
  },
  {
   "cell_type": "code",
   "execution_count": 50,
   "id": "d9c2ab75",
   "metadata": {},
   "outputs": [
    {
     "name": "stdout",
     "output_type": "stream",
     "text": [
      "[2, 10, 8, 12, 16, 22, 6, 24]\n"
     ]
    }
   ],
   "source": [
    "my_list_3 = [1, 5, 4, 6, 8, 11, 3, 12]\n",
    "double_list = []\n",
    "for i in my_list_3:\n",
    "    double_list.append(i * 2)\n",
    "print(double_list)"
   ]
  },
  {
   "cell_type": "code",
   "execution_count": 53,
   "id": "2eda738e",
   "metadata": {},
   "outputs": [
    {
     "name": "stdout",
     "output_type": "stream",
     "text": [
      "[2, 10, 8, 12, 16, 22, 6, 24]\n"
     ]
    }
   ],
   "source": [
    "# Map function\n",
    "\n",
    "my_list_4 = [1, 5, 4, 6, 8, 11, 3, 12]\n",
    "\n",
    "new_list = list(map(lambda x: x * 2, my_list_4))\n",
    "\n",
    "print(new_list)"
   ]
  }
 ],
 "metadata": {
  "kernelspec": {
   "display_name": "Python 3",
   "language": "python",
   "name": "python3"
  },
  "language_info": {
   "codemirror_mode": {
    "name": "ipython",
    "version": 3
   },
   "file_extension": ".py",
   "mimetype": "text/x-python",
   "name": "python",
   "nbconvert_exporter": "python",
   "pygments_lexer": "ipython3",
   "version": "3.8.8"
  }
 },
 "nbformat": 4,
 "nbformat_minor": 5
}
